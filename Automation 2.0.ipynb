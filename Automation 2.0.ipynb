{
 "cells": [
  {
   "cell_type": "code",
   "execution_count": 4,
   "metadata": {},
   "outputs": [
    {
     "name": "stdout",
     "output_type": "stream",
     "text": [
      "Populating the interactive namespace from numpy and matplotlib\n"
     ]
    }
   ],
   "source": [
    "## time and date of the scan --> date of scanning  must be greater than the last scan submission date\n",
    "##'completed' tag must be present\n",
    "## hostname should match with the file name\n",
    "## RiskFound must be 0\n",
    "\n",
    "import pytesseract\n",
    "pytesseract.pytesseract.tesseract_cmd ='D:/Tesseract-OCR/tesseract'\n",
    "%pylab inline\n",
    "import cv2"
   ]
  },
  {
   "cell_type": "code",
   "execution_count": 39,
   "metadata": {},
   "outputs": [],
   "source": [
    "import re"
   ]
  },
  {
   "cell_type": "code",
   "execution_count": 84,
   "metadata": {},
   "outputs": [],
   "source": [
    "def helper_function(res,lst):\n",
    "    txt =pytesseract.image_to_string(res)\n",
    "    \n",
    "    indices = [i for i, x in enumerate(cd) if x == \"xx\"]\n",
    "    \n",
    "    \n",
    "    \n",
    "    ##preprocessing\n",
    "    \n",
    "    result1 = re.sub(r\"\\n\", \" \", txt, flags=re.I) \n",
    "    result2 = re.sub(r\"\\\\\", \"\", result1)\n",
    "    result3 = re.sub(r\"|\", \"\", result2)\n",
    "    txt = re.sub(r\"¢\", \"0\", result3)\n",
    "    \n",
    "    \n",
    "    ##date\n",
    "    try:\n",
    "        if 0 in set(indices):\n",
    "            lst[0] = 'Date: '+re.search(r'(\\d+(/|-){1}\\d+(/|-){1}\\d{2,4})', txt)[0]\n",
    "    except:\n",
    "        pass\n",
    "    \n",
    "    \n",
    "    #time\n",
    "    try:\n",
    "        if 0 in set(indices):\n",
    "            lst[1] = \"Time:\"+re.search(r'(\\d+:\\d+:\\d+)', txt)[0]\n",
    "    except:\n",
    "        pass\n",
    "\n",
    "    \n",
    "    ##scan completed or not\n",
    "    try:\n",
    "        if (2 in set(indices)):\n",
    "            if re.findall('Completed', txt):\n",
    "                lst[2] = 'completed'\n",
    "            else:\n",
    "                lst[2]='error'\n",
    "    except:\n",
    "        pass\n",
    "\n",
    "    \n",
    "    ##risk\n",
    "    try:\n",
    "        if 3 in set(indices):\n",
    "            lst[3] = re.search(r\"Risks found:(?:[^a-zA-Z'-]+){1}\", txt)[0]\n",
    "        \n",
    "    except:\n",
    "        pass\n",
    "\n",
    "\n",
    "    ##files scanned\n",
    "    try:\n",
    "        if 4 in set(indices):\n",
    "            lst[4] = re.search(r\"scanned:(?:[^a-zA-Z'-]+){1}\", txt)[0]\n",
    "    except:\n",
    "        pass\n",
    "\n",
    "    \n",
    "    ##hostname\n",
    "    try:\n",
    "        if 5 in set(indices):\n",
    "            lst[5] = re.search(r\"KIIT_(?:[^a-zA-Z'-]){5}\", txt)[0][5:]\n",
    "    except:\n",
    "        pass\n",
    "    \n",
    "    return lst\n",
    "    "
   ]
  },
  {
   "cell_type": "code",
   "execution_count": 85,
   "metadata": {},
   "outputs": [],
   "source": [
    "def data_retriver(img):\n",
    "    lst = ['xx','xx','xx','xx','xx','xx']\n",
    "    ##2XSCALING\n",
    "    scale_percent = 200 # percent of original size\n",
    "    width = int(img.shape[1] * scale_percent / 100)\n",
    "    height = int(img.shape[0] * scale_percent / 100)\n",
    "    dim = (width, height)\n",
    "    res = cv2.resize(img, dim, interpolation = cv2.INTER_AREA)\n",
    "\n",
    "    if 'xx' in set(lst):\n",
    "        ret,thresh2 = cv2.threshold(res,127,255,cv2.THRESH_BINARY_INV)\n",
    "        lst = helper_function(thresh2,lst)\n",
    "    else:\n",
    "        return lst\n",
    "\n",
    "    if 'xx' in set(lst):\n",
    "        rest = cv2.cvtColor(res, cv2.COLOR_BGR2GRAY)\n",
    "        th1 = cv2.adaptiveThreshold(rest,255,cv2.ADAPTIVE_THRESH_MEAN_C,cv2.THRESH_BINARY,11,2)\n",
    "        lst = helper_function(th1,lst)\n",
    "    else:\n",
    "        return lst    \n",
    "    \n",
    "    ##LAB\n",
    "    lab= cv2.cvtColor(res, cv2.COLOR_BGR2LAB)\n",
    "    l, a, b = cv2.split(lab)\n",
    "    clahe = cv2.createCLAHE(clipLimit=10.0, tileGridSize=(10,10))\n",
    "    cl = clahe.apply(l)\n",
    "    limg = cv2.merge((cl,a,b))\n",
    "    lst = helper_function(limg,lst)\n",
    "    \n",
    "    \n",
    "    \n",
    "\n",
    "\n",
    "    \n",
    "    \n",
    "    return lst\n",
    "         \n",
    "\n",
    "    \n",
    "    "
   ]
  },
  {
   "cell_type": "code",
   "execution_count": 86,
   "metadata": {},
   "outputs": [
    {
     "name": "stdout",
     "output_type": "stream",
     "text": [
      "Wall time: 7.89 s\n"
     ]
    }
   ],
   "source": [
    "%%time\n",
    "img = cv2.imread(\"we7.png\")\n",
    "\n",
    "lst = data_retriver(img)\n",
    "lst"
   ]
  },
  {
   "cell_type": "code",
   "execution_count": 87,
   "metadata": {},
   "outputs": [
    {
     "data": {
      "text/plain": [
       "['Date: 8/21/2019',\n",
       " 'Time:2:52:30',\n",
       " 'completed',\n",
       " 'Risks found: 0 | ',\n",
       " 'scanned: 2,945,432  ',\n",
       " '10471']"
      ]
     },
     "execution_count": 87,
     "metadata": {},
     "output_type": "execute_result"
    }
   ],
   "source": [
    "lst"
   ]
  },
  {
   "cell_type": "code",
   "execution_count": 27,
   "metadata": {},
   "outputs": [],
   "source": []
  }
 ],
 "metadata": {
  "kernelspec": {
   "display_name": "Python 3",
   "language": "python",
   "name": "python3"
  },
  "language_info": {
   "codemirror_mode": {
    "name": "ipython",
    "version": 3
   },
   "file_extension": ".py",
   "mimetype": "text/x-python",
   "name": "python",
   "nbconvert_exporter": "python",
   "pygments_lexer": "ipython3",
   "version": "3.7.3"
  }
 },
 "nbformat": 4,
 "nbformat_minor": 2
}
